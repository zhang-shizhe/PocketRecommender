{
 "cells": [
  {
   "cell_type": "markdown",
   "id": "25d092a7-7b20-4daf-a9c3-dc71f35da6db",
   "metadata": {},
   "source": [
    "# u2u2i"
   ]
  },
  {
   "cell_type": "code",
   "execution_count": 1,
   "id": "1cbdb4fa-c0f1-4962-a23e-09beecc3d59a",
   "metadata": {},
   "outputs": [],
   "source": [
    "from user_cf import UserCF"
   ]
  },
  {
   "cell_type": "code",
   "execution_count": 2,
   "id": "5e3d27da-2f28-40c2-b6ae-bebbc8e97134",
   "metadata": {},
   "outputs": [],
   "source": [
    "usercf = UserCF(file_path='../dataset/ml-100k/data.csv')"
   ]
  },
  {
   "cell_type": "code",
   "execution_count": 3,
   "id": "639eecef-cd63-47a9-9b39-83a2bf3d9305",
   "metadata": {},
   "outputs": [
    {
     "name": "stdout",
     "output_type": "stream",
     "text": [
      "CPU times: user 404 ms, sys: 2.53 ms, total: 407 ms\n",
      "Wall time: 406 ms\n"
     ]
    },
    {
     "data": {
      "text/plain": [
       "[(474, 4.295518393150691),\n",
       " (483, 4.27955295588622),\n",
       " (318, 4.2490433133666405),\n",
       " (408, 4.077487261123602),\n",
       " (651, 4.065152997232814),\n",
       " (357, 4.063832649224542),\n",
       " (425, 3.9363194765411955),\n",
       " (496, 3.9124234099067134),\n",
       " (527, 3.898306954874184),\n",
       " (313, 3.8576545943240963)]"
      ]
     },
     "execution_count": 3,
     "metadata": {},
     "output_type": "execute_result"
    }
   ],
   "source": [
    "%%time\n",
    "usercf.calculate(target_user_id=1, top_n=10, user_sim='watched')"
   ]
  },
  {
   "cell_type": "code",
   "execution_count": 4,
   "id": "e291fbf2-2d3c-4323-b42d-89007ddfc052",
   "metadata": {},
   "outputs": [
    {
     "name": "stdout",
     "output_type": "stream",
     "text": [
      "CPU times: user 284 ms, sys: 951 µs, total: 285 ms\n",
      "Wall time: 284 ms\n"
     ]
    },
    {
     "data": {
      "text/plain": [
       "[(354, 3.592825103949889),\n",
       " (881, 3.583412347337417),\n",
       " (288, 3.315050344141145),\n",
       " (309, 3.308209479460142),\n",
       " (311, 3.308209479460142),\n",
       " (329, 3.308209479460142),\n",
       " (330, 3.308209479460142),\n",
       " (339, 3.308209479460142),\n",
       " (341, 3.308209479460142),\n",
       " (349, 3.308209479460142)]"
      ]
     },
     "execution_count": 4,
     "metadata": {},
     "output_type": "execute_result"
    }
   ],
   "source": [
    "%%time\n",
    "usercf.calculate(target_user_id=1, top_n=10, user_sim='rating')"
   ]
  },
  {
   "cell_type": "markdown",
   "id": "e491feef-e032-4e02-8541-76b3370b9bc3",
   "metadata": {},
   "source": [
    "# u2i2i"
   ]
  },
  {
   "cell_type": "code",
   "execution_count": 5,
   "id": "4856b32f-be1d-4f94-a005-7c9f3d26186b",
   "metadata": {},
   "outputs": [],
   "source": [
    "from item_cf import ItemCF\n",
    "itemcf = ItemCF(file_path='../dataset/ml-100k/data.csv')"
   ]
  },
  {
   "cell_type": "code",
   "execution_count": 6,
   "id": "404fec1d-16e8-4f42-bc38-6c3086d489df",
   "metadata": {},
   "outputs": [
    {
     "name": "stdout",
     "output_type": "stream",
     "text": [
      "CPU times: user 3.13 s, sys: 0 ns, total: 3.13 s\n",
      "Wall time: 3.13 s\n"
     ]
    },
    {
     "data": {
      "text/plain": [
       "[(1611, 5.000000000000001),\n",
       " (711, 5.0),\n",
       " (1156, 5.0),\n",
       " (1414, 5.0),\n",
       " (1417, 5.0),\n",
       " (1430, 5.0),\n",
       " (1431, 5.0),\n",
       " (1595, 5.0),\n",
       " (1596, 5.0),\n",
       " (1606, 5.0)]"
      ]
     },
     "execution_count": 6,
     "metadata": {},
     "output_type": "execute_result"
    }
   ],
   "source": [
    "%%time\n",
    "itemcf.calculate(target_user_id=1, top_n=10, user_sim='watched')"
   ]
  },
  {
   "cell_type": "code",
   "execution_count": 7,
   "id": "91110e5f-04f7-429c-8527-1d3f5763647f",
   "metadata": {},
   "outputs": [
    {
     "name": "stdout",
     "output_type": "stream",
     "text": [
      "CPU times: user 3.37 s, sys: 0 ns, total: 3.37 s\n",
      "Wall time: 3.37 s\n"
     ]
    },
    {
     "data": {
      "text/plain": [
       "[(711, 5.0),\n",
       " (1156, 5.0),\n",
       " (1414, 5.0),\n",
       " (1417, 5.0),\n",
       " (1430, 5.0),\n",
       " (1431, 5.0),\n",
       " (1595, 5.0),\n",
       " (1596, 5.0),\n",
       " (1606, 5.0),\n",
       " (1610, 5.0)]"
      ]
     },
     "execution_count": 7,
     "metadata": {},
     "output_type": "execute_result"
    }
   ],
   "source": [
    "%%time\n",
    "itemcf.calculate(target_user_id=1, top_n=10, user_sim='rating')"
   ]
  },
  {
   "cell_type": "markdown",
   "id": "cde4ea62-fd9e-47e5-9c19-93a5a14bdc36",
   "metadata": {},
   "source": [
    "# swing"
   ]
  },
  {
   "cell_type": "code",
   "execution_count": 8,
   "id": "add7020e-b90b-457a-9590-a7484d3f1205",
   "metadata": {},
   "outputs": [],
   "source": [
    "from swing import Swing"
   ]
  },
  {
   "cell_type": "code",
   "execution_count": 9,
   "id": "cf86498f-d88b-4d40-922c-eedcfdf351c0",
   "metadata": {},
   "outputs": [
    {
     "name": "stdout",
     "output_type": "stream",
     "text": [
      "CPU times: user 2min 58s, sys: 19.6 ms, total: 2min 58s\n",
      "Wall time: 2min 58s\n"
     ]
    }
   ],
   "source": [
    "%%time\n",
    "swing = Swing(file_path='../dataset/ml-100k/data.csv')"
   ]
  },
  {
   "cell_type": "code",
   "execution_count": 10,
   "id": "87f8e603-fb7e-4009-9581-ed3c6ee3bbfa",
   "metadata": {},
   "outputs": [
    {
     "name": "stdout",
     "output_type": "stream",
     "text": [
      "CPU times: user 4 ms, sys: 0 ns, total: 4 ms\n",
      "Wall time: 3.89 ms\n"
     ]
    },
    {
     "data": {
      "text/plain": [
       "[(294, 80.39798840391752),\n",
       " (286, 63.629068655974706),\n",
       " (288, 61.733070069885805),\n",
       " (294, 60.68862626684761),\n",
       " (276, 60.006778334362714),\n",
       " (300, 57.95643155900174),\n",
       " (405, 54.720892834287525),\n",
       " (275, 50.90832242283351),\n",
       " (742, 47.46405158295744),\n",
       " (423, 47.06679503512332)]"
      ]
     },
     "execution_count": 10,
     "metadata": {},
     "output_type": "execute_result"
    }
   ],
   "source": [
    "%%time\n",
    "swing.recommend_naive(1, n_retrieve= 10)"
   ]
  },
  {
   "cell_type": "code",
   "execution_count": 12,
   "id": "bfc6e025-951b-459f-bc24-c95b4c281ded",
   "metadata": {},
   "outputs": [
    {
     "name": "stdout",
     "output_type": "stream",
     "text": [
      "CPU times: user 14.6 ms, sys: 0 ns, total: 14.6 ms\n",
      "Wall time: 13.6 ms\n"
     ]
    },
    {
     "data": {
      "text/plain": [
       "[(294, 224.74702302681675),\n",
       " (286, 192.7777799704883),\n",
       " (288, 172.9543726099579),\n",
       " (405, 153.7465183039407),\n",
       " (276, 142.146498135063),\n",
       " (300, 141.29910427816668),\n",
       " (275, 132.14794424540622),\n",
       " (423, 107.99967460906846),\n",
       " (318, 107.64777526760251),\n",
       " (742, 105.47858321188924)]"
      ]
     },
     "execution_count": 12,
     "metadata": {},
     "output_type": "execute_result"
    }
   ],
   "source": [
    "%%time\n",
    "swing.recommend(1, n_retrieve= 10)"
   ]
  }
 ],
 "metadata": {
  "kernelspec": {
   "display_name": "Python [conda env:rec]",
   "language": "python",
   "name": "conda-env-rec-py"
  },
  "language_info": {
   "codemirror_mode": {
    "name": "ipython",
    "version": 3
   },
   "file_extension": ".py",
   "mimetype": "text/x-python",
   "name": "python",
   "nbconvert_exporter": "python",
   "pygments_lexer": "ipython3",
   "version": "3.11.8"
  }
 },
 "nbformat": 4,
 "nbformat_minor": 5
}
