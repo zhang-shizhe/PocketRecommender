{
 "cells": [
  {
   "cell_type": "markdown",
   "id": "25d092a7-7b20-4daf-a9c3-dc71f35da6db",
   "metadata": {},
   "source": [
    "# u2u2i"
   ]
  },
  {
   "cell_type": "code",
   "execution_count": 1,
   "id": "1cbdb4fa-c0f1-4962-a23e-09beecc3d59a",
   "metadata": {},
   "outputs": [],
   "source": [
    "from user_cf import UserCF"
   ]
  },
  {
   "cell_type": "code",
   "execution_count": 2,
   "id": "5e3d27da-2f28-40c2-b6ae-bebbc8e97134",
   "metadata": {},
   "outputs": [],
   "source": [
    "usercf = UserCF(file_path='dataset/ml-100k/data.csv')"
   ]
  },
  {
   "cell_type": "code",
   "execution_count": 10,
   "id": "639eecef-cd63-47a9-9b39-83a2bf3d9305",
   "metadata": {},
   "outputs": [
    {
     "data": {
      "text/plain": [
       "[(15, 4.193676881720039),\n",
       " (8, 4.147411088308016),\n",
       " (709, 4.147411088308016),\n",
       " (96, 4.147411088308015),\n",
       " (127, 4.147411088308015),\n",
       " (22, 4.002185532343357),\n",
       " (71, 4.002185532343357),\n",
       " (83, 4.002185532343357),\n",
       " (86, 4.002185532343357),\n",
       " (117, 4.002185532343357)]"
      ]
     },
     "execution_count": 10,
     "metadata": {},
     "output_type": "execute_result"
    }
   ],
   "source": [
    "usercf.calculate(target_user_id=30, top_n=10, user_sim='watched')"
   ]
  },
  {
   "cell_type": "code",
   "execution_count": 8,
   "id": "e291fbf2-2d3c-4323-b42d-89007ddfc052",
   "metadata": {},
   "outputs": [
    {
     "data": {
      "text/plain": [
       "[(318, 4.281005649444444),\n",
       " (268, 4.184460148970837),\n",
       " (100, 4.147411088308015),\n",
       " (137, 4.147411088308015),\n",
       " (194, 4.147411088308015),\n",
       " (197, 4.147411088308015),\n",
       " (275, 4.147411088308015),\n",
       " (8, 4.002185532343357),\n",
       " (9, 4.002185532343357),\n",
       " (12, 4.002185532343357)]"
      ]
     },
     "execution_count": 8,
     "metadata": {},
     "output_type": "execute_result"
    }
   ],
   "source": [
    "usercf.calculate(target_user_id=30, top_n=10, user_sim='rating')"
   ]
  },
  {
   "cell_type": "markdown",
   "id": "e491feef-e032-4e02-8541-76b3370b9bc3",
   "metadata": {},
   "source": [
    "# u2i2i"
   ]
  },
  {
   "cell_type": "code",
   "execution_count": null,
   "id": "7ec64195-ad33-40de-aab4-241e5b7bc811",
   "metadata": {},
   "outputs": [],
   "source": []
  },
  {
   "cell_type": "code",
   "execution_count": 5,
   "id": "4c4f571f-0bea-4b93-9104-628eb0475a36",
   "metadata": {},
   "outputs": [
    {
     "data": {
      "text/plain": [
       "{1: 10, 2: 30, 3: 15}"
      ]
     },
     "execution_count": 5,
     "metadata": {},
     "output_type": "execute_result"
    }
   ],
   "source": [
    "dict(zip([1,2,2,2,3], [10,12, 12, 30, 15]))"
   ]
  },
  {
   "cell_type": "code",
   "execution_count": null,
   "id": "91110e5f-04f7-429c-8527-1d3f5763647f",
   "metadata": {},
   "outputs": [],
   "source": []
  },
  {
   "cell_type": "code",
   "execution_count": 6,
   "id": "61841de9-a815-4588-bf92-9827eaae159b",
   "metadata": {},
   "outputs": [
    {
     "data": {
      "text/plain": [
       "0"
      ]
     },
     "execution_count": 6,
     "metadata": {},
     "output_type": "execute_result"
    }
   ],
   "source": [
    "sum([])"
   ]
  }
 ],
 "metadata": {
  "kernelspec": {
   "display_name": "Python [conda env:rec]",
   "language": "python",
   "name": "conda-env-rec-py"
  },
  "language_info": {
   "codemirror_mode": {
    "name": "ipython",
    "version": 3
   },
   "file_extension": ".py",
   "mimetype": "text/x-python",
   "name": "python",
   "nbconvert_exporter": "python",
   "pygments_lexer": "ipython3",
   "version": "3.11.8"
  }
 },
 "nbformat": 4,
 "nbformat_minor": 5
}
