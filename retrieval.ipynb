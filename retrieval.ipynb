{
 "cells": [
  {
   "cell_type": "markdown",
   "id": "25d092a7-7b20-4daf-a9c3-dc71f35da6db",
   "metadata": {},
   "source": [
    "# u2u2i"
   ]
  },
  {
   "cell_type": "code",
   "execution_count": 1,
   "id": "1cbdb4fa-c0f1-4962-a23e-09beecc3d59a",
   "metadata": {},
   "outputs": [],
   "source": [
    "from user_cf import UserCF"
   ]
  },
  {
   "cell_type": "code",
   "execution_count": 2,
   "id": "5e3d27da-2f28-40c2-b6ae-bebbc8e97134",
   "metadata": {},
   "outputs": [],
   "source": [
    "usercf = UserCF(file_path='dataset/ml-100k/data.csv')"
   ]
  },
  {
   "cell_type": "code",
   "execution_count": 3,
   "id": "639eecef-cd63-47a9-9b39-83a2bf3d9305",
   "metadata": {},
   "outputs": [
    {
     "name": "stdout",
     "output_type": "stream",
     "text": [
      "CPU times: user 292 ms, sys: 4.37 ms, total: 296 ms\n",
      "Wall time: 294 ms\n"
     ]
    },
    {
     "data": {
      "text/plain": [
       "[(15, 3.8624856261792173),\n",
       " (300, 3.8116421690349176),\n",
       " (328, 3.6569894439410113),\n",
       " (8, 3.59282510394989),\n",
       " (709, 3.59282510394989),\n",
       " (96, 3.592825103949889),\n",
       " (127, 3.592825103949889),\n",
       " (1, 3.4386787004110753),\n",
       " (895, 3.3489748780337583),\n",
       " (272, 3.328304418910318)]"
      ]
     },
     "execution_count": 3,
     "metadata": {},
     "output_type": "execute_result"
    }
   ],
   "source": [
    "%%time\n",
    "usercf.calculate(target_user_id=30, top_n=10, user_sim='watched')"
   ]
  },
  {
   "cell_type": "code",
   "execution_count": 4,
   "id": "e291fbf2-2d3c-4323-b42d-89007ddfc052",
   "metadata": {},
   "outputs": [
    {
     "name": "stdout",
     "output_type": "stream",
     "text": [
      "CPU times: user 295 ms, sys: 2.32 ms, total: 297 ms\n",
      "Wall time: 297 ms\n"
     ]
    },
    {
     "data": {
      "text/plain": [
       "[(268, 3.853996775281023),\n",
       " (318, 3.8393703721472323),\n",
       " (100, 3.592825103949889),\n",
       " (137, 3.592825103949889),\n",
       " (194, 3.592825103949889),\n",
       " (197, 3.592825103949889),\n",
       " (275, 3.592825103949889),\n",
       " (117, 3.327454322527601),\n",
       " (8, 3.308209479460142),\n",
       " (9, 3.308209479460142)]"
      ]
     },
     "execution_count": 4,
     "metadata": {},
     "output_type": "execute_result"
    }
   ],
   "source": [
    "%%time\n",
    "usercf.calculate(target_user_id=30, top_n=10, user_sim='rating')"
   ]
  },
  {
   "cell_type": "markdown",
   "id": "e491feef-e032-4e02-8541-76b3370b9bc3",
   "metadata": {},
   "source": [
    "# u2i2i"
   ]
  },
  {
   "cell_type": "code",
   "execution_count": 5,
   "id": "4856b32f-be1d-4f94-a005-7c9f3d26186b",
   "metadata": {},
   "outputs": [],
   "source": [
    "from item_cf import ItemCF\n",
    "itemcf = ItemCF(file_path='dataset/ml-100k/data.csv')"
   ]
  },
  {
   "cell_type": "code",
   "execution_count": 6,
   "id": "404fec1d-16e8-4f42-bc38-6c3086d489df",
   "metadata": {},
   "outputs": [
    {
     "name": "stdout",
     "output_type": "stream",
     "text": [
      "CPU times: user 3.61 s, sys: 7.82 ms, total: 3.62 s\n",
      "Wall time: 3.62 s\n"
     ]
    },
    {
     "data": {
      "text/plain": [
       "[(1201, 5.000000000000001),\n",
       " (1156, 5.0),\n",
       " (1593, 5.0),\n",
       " (1673, 4.672471560858155),\n",
       " (1674, 4.672471560858155),\n",
       " (1677, 4.672471560858155),\n",
       " (1332, 4.604559681741429),\n",
       " (1599, 4.44929947541591),\n",
       " (1331, 4.448191142024485),\n",
       " (1360, 4.4461022193463595)]"
      ]
     },
     "execution_count": 6,
     "metadata": {},
     "output_type": "execute_result"
    }
   ],
   "source": [
    "%%time\n",
    "itemcf.calculate(target_user_id=30, top_n=10, user_sim='watched')"
   ]
  },
  {
   "cell_type": "code",
   "execution_count": 7,
   "id": "91110e5f-04f7-429c-8527-1d3f5763647f",
   "metadata": {},
   "outputs": [
    {
     "name": "stdout",
     "output_type": "stream",
     "text": [
      "CPU times: user 3.94 s, sys: 2.39 ms, total: 3.94 s\n",
      "Wall time: 3.94 s\n"
     ]
    },
    {
     "data": {
      "text/plain": [
       "[(1156, 5.0),\n",
       " (1201, 5.0),\n",
       " (1593, 5.0),\n",
       " (1332, 4.666666666666667),\n",
       " (1673, 4.666666666666667),\n",
       " (1674, 4.666666666666667),\n",
       " (1677, 4.666666666666667),\n",
       " (1327, 4.650670796092255),\n",
       " (1331, 4.5115311845338795),\n",
       " (1350, 4.5064979510986385)]"
      ]
     },
     "execution_count": 7,
     "metadata": {},
     "output_type": "execute_result"
    }
   ],
   "source": [
    "%%time\n",
    "itemcf.calculate(target_user_id=30, top_n=10, user_sim='rating')"
   ]
  },
  {
   "cell_type": "markdown",
   "id": "cde4ea62-fd9e-47e5-9c19-93a5a14bdc36",
   "metadata": {},
   "source": [
    "# swing"
   ]
  },
  {
   "cell_type": "code",
   "execution_count": 8,
   "id": "add7020e-b90b-457a-9590-a7484d3f1205",
   "metadata": {},
   "outputs": [],
   "source": [
    "from swing import Swing"
   ]
  },
  {
   "cell_type": "code",
   "execution_count": 9,
   "id": "cf86498f-d88b-4d40-922c-eedcfdf351c0",
   "metadata": {},
   "outputs": [
    {
     "name": "stdout",
     "output_type": "stream",
     "text": [
      "CPU times: user 169 ms, sys: 161 µs, total: 169 ms\n",
      "Wall time: 169 ms\n"
     ]
    }
   ],
   "source": [
    "%%time\n",
    "swing = Swing(file_path='dataset/ml-100k/data.csv')"
   ]
  },
  {
   "cell_type": "code",
   "execution_count": 11,
   "id": "87f8e603-fb7e-4009-9581-ed3c6ee3bbfa",
   "metadata": {},
   "outputs": [
    {
     "name": "stdout",
     "output_type": "stream",
     "text": [
      "CPU times: user 6.08 s, sys: 716 ms, total: 6.79 s\n",
      "Wall time: 6.79 s\n"
     ]
    },
    {
     "data": {
      "text/plain": [
       "[(342, 0.011904761904761904),\n",
       " (538, 0.011904761904761904),\n",
       " (683, 0.011904761904761904),\n",
       " (1357, 0.011904761904761904),\n",
       " (361, 0.011904761904761904),\n",
       " (885, 0.011904761904761904),\n",
       " (1662, 0.010822510822510824),\n",
       " (1259, 0.009057971014492756),\n",
       " (1406, 0.009057971014492756),\n",
       " (1355, 0.009057971014492756)]"
      ]
     },
     "execution_count": 11,
     "metadata": {},
     "output_type": "execute_result"
    }
   ],
   "source": [
    "%%time\n",
    "swing.recommend_naive(1, n_retrieve= 10)"
   ]
  }
 ],
 "metadata": {
  "kernelspec": {
   "display_name": "Python [conda env:rec]",
   "language": "python",
   "name": "conda-env-rec-py"
  },
  "language_info": {
   "codemirror_mode": {
    "name": "ipython",
    "version": 3
   },
   "file_extension": ".py",
   "mimetype": "text/x-python",
   "name": "python",
   "nbconvert_exporter": "python",
   "pygments_lexer": "ipython3",
   "version": "3.11.8"
  }
 },
 "nbformat": 4,
 "nbformat_minor": 5
}
