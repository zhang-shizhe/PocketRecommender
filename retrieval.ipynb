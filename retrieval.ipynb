{
 "cells": [
  {
   "cell_type": "markdown",
   "id": "25d092a7-7b20-4daf-a9c3-dc71f35da6db",
   "metadata": {},
   "source": [
    "# u2u2i"
   ]
  },
  {
   "cell_type": "code",
   "execution_count": 1,
   "id": "1cbdb4fa-c0f1-4962-a23e-09beecc3d59a",
   "metadata": {},
   "outputs": [],
   "source": [
    "from user_cf import UserCF"
   ]
  },
  {
   "cell_type": "code",
   "execution_count": 2,
   "id": "5e3d27da-2f28-40c2-b6ae-bebbc8e97134",
   "metadata": {},
   "outputs": [],
   "source": [
    "usercf = UserCF(file_path='dataset/ml-100k/data.csv')"
   ]
  },
  {
   "cell_type": "code",
   "execution_count": 3,
   "id": "639eecef-cd63-47a9-9b39-83a2bf3d9305",
   "metadata": {},
   "outputs": [
    {
     "data": {
      "text/plain": [
       "[(474, 4.35728057902336),\n",
       " (732, 3.647398554815309),\n",
       " (318, 3.64635876435068),\n",
       " (568, 3.448769049590842),\n",
       " (655, 3.445490587368326),\n",
       " (527, 3.341147001603023),\n",
       " (423, 3.338077638524084),\n",
       " (566, 3.250002555477586),\n",
       " (433, 3.248985543886195),\n",
       " (403, 3.1352762062250488)]"
      ]
     },
     "execution_count": 3,
     "metadata": {},
     "output_type": "execute_result"
    }
   ],
   "source": [
    "usercf.calculate(target_user_id=1, top_n=10, user_sim='watched')"
   ]
  },
  {
   "cell_type": "code",
   "execution_count": 4,
   "id": "e291fbf2-2d3c-4323-b42d-89007ddfc052",
   "metadata": {},
   "outputs": [
    {
     "data": {
      "text/plain": [
       "[(288, 5.6),\n",
       " (300, 3.5998458573952123),\n",
       " (302, 3.599691714790426),\n",
       " (326, 3.1999999999999997),\n",
       " (294, 3.1999999999999993),\n",
       " (286, 3.0),\n",
       " (333, 3.0),\n",
       " (332, 2.8),\n",
       " (682, 2.8),\n",
       " (881, 2.8)]"
      ]
     },
     "execution_count": 4,
     "metadata": {},
     "output_type": "execute_result"
    }
   ],
   "source": [
    "usercf.calculate(target_user_id=1, top_n=10, user_sim='rating')"
   ]
  },
  {
   "cell_type": "markdown",
   "id": "e491feef-e032-4e02-8541-76b3370b9bc3",
   "metadata": {},
   "source": [
    "# u2i2i"
   ]
  },
  {
   "cell_type": "code",
   "execution_count": null,
   "id": "7ec64195-ad33-40de-aab4-241e5b7bc811",
   "metadata": {},
   "outputs": [],
   "source": []
  },
  {
   "cell_type": "code",
   "execution_count": null,
   "id": "4c4f571f-0bea-4b93-9104-628eb0475a36",
   "metadata": {},
   "outputs": [],
   "source": []
  },
  {
   "cell_type": "code",
   "execution_count": null,
   "id": "91110e5f-04f7-429c-8527-1d3f5763647f",
   "metadata": {},
   "outputs": [],
   "source": []
  },
  {
   "cell_type": "code",
   "execution_count": null,
   "id": "61841de9-a815-4588-bf92-9827eaae159b",
   "metadata": {},
   "outputs": [],
   "source": []
  }
 ],
 "metadata": {
  "kernelspec": {
   "display_name": "Python [conda env:rec]",
   "language": "python",
   "name": "conda-env-rec-py"
  },
  "language_info": {
   "codemirror_mode": {
    "name": "ipython",
    "version": 3
   },
   "file_extension": ".py",
   "mimetype": "text/x-python",
   "name": "python",
   "nbconvert_exporter": "python",
   "pygments_lexer": "ipython3",
   "version": "3.11.8"
  }
 },
 "nbformat": 4,
 "nbformat_minor": 5
}
